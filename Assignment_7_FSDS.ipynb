{
 "cells": [
  {
   "cell_type": "markdown",
   "id": "0888c953",
   "metadata": {},
   "source": [
    "# 1. What is the name of the feature responsible for generating Regex objects?\n",
    "\n",
    "ANSWER- The re.complie() function returns Regex objects."
   ]
  },
  {
   "cell_type": "markdown",
   "id": "e4b3070a",
   "metadata": {},
   "source": [
    "# 2. Why do raw strings often appear in Regex objects?\n",
    "\n",
    "ANSWER- Raw strings are used so that backslashes do not have to be escaped."
   ]
  },
  {
   "cell_type": "markdown",
   "id": "8145b3c6",
   "metadata": {},
   "source": [
    "# 3. What is the return value of the search() method?\n",
    "\n",
    "ANSWER- The search() method returns match objects. "
   ]
  },
  {
   "cell_type": "markdown",
   "id": "5ac8937d",
   "metadata": {},
   "source": [
    "# 4. From a Match item, how do you get the actual strings that match the pattern?\n",
    "\n",
    "ANSWER- The group() method returns strings of the matched text."
   ]
  },
  {
   "cell_type": "markdown",
   "id": "8164791f",
   "metadata": {},
   "source": [
    "# 5. In the regex which created from the r'(\\d\\d\\d)-(\\d\\d\\d-\\d\\d\\d\\d)', what does group zero cover? Group 2? Group 1?\n",
    "\n",
    "ANSWER- Group 0 is the entire match .\n",
    "        Group 1 covers the first set of parentheses.\n",
    "        Group 2 covers the second set of parentheses."
   ]
  },
  {
   "cell_type": "markdown",
   "id": "071557e2",
   "metadata": {},
   "source": [
    "# 6. In standard expression syntax, parentheses and intervals have distinct meanings. How can you tell a regex that you want it to fit real parentheses and periods?\n",
    "\n",
    "ANSWER- Parentheses and Periods can be escaped with a backslash:\\.,\\(,and\\)."
   ]
  },
  {
   "cell_type": "markdown",
   "id": "74b07ab3",
   "metadata": {},
   "source": [
    "# 7. The findall() method returns a string list or a list of string tuples. What causes it to return one of the two options?\n",
    "\n",
    "ANSWER- If the regex has no groups ,a list of string is returned.If the regex has groups ,a list of tuples of strings is returned."
   ]
  },
  {
   "cell_type": "markdown",
   "id": "09b77560",
   "metadata": {},
   "source": [
    "# 8. In standard expressions, what does the | character mean?\n",
    "\n",
    "ANSWER-The | character signifies matching either,or between two groups."
   ]
  },
  {
   "cell_type": "markdown",
   "id": "ecc8bd31",
   "metadata": {},
   "source": [
    "# 9. In regular expressions, what does the character stand for?\n",
    "\n",
    "ANSWER- A regular expressions is a sequence of characters that specifies a search pattern in text .\n",
    "Some of example: ^ start with, (*) matches zero or more occurence,$ stand for end of string."
   ]
  },
  {
   "cell_type": "markdown",
   "id": "c30e13c1",
   "metadata": {},
   "source": [
    "#  10.In regular expressions, what is the difference between the + and * characters?\n",
    "\n",
    "ANSWER- The + matches one or more, and * matches zero or more from the given string in regex."
   ]
  },
  {
   "cell_type": "markdown",
   "id": "3cc5adc5",
   "metadata": {},
   "source": [
    "# 11. What is the difference between {4} and {4,5} in regular expression?\n",
    "\n",
    "ANSWER- {4} means that the preceding character is to be repeated 4 times .\n",
    "        {4,5} means that the preceding character is to be repeated at least 4 times and at most 5 times."
   ]
  },
  {
   "cell_type": "markdown",
   "id": "804b6c7e",
   "metadata": {},
   "source": [
    "# 12. What do you mean by the \\d, \\w, and \\s shorthand character classes signify in regular expressions?\n",
    "\n",
    "ANSWER- The \\d means a range of digits(0-9).\n",
    "        The \\w means a word character(any lowercase letter,any uppercase letter,the underscore character,or any digit)\n",
    "        The \\s means a matches single whitespace character."
   ]
  },
  {
   "cell_type": "markdown",
   "id": "dba52424",
   "metadata": {},
   "source": [
    "# 13. What do means by \\D, \\W, and \\S shorthand character classes signify in regular expressions?\n",
    "\n",
    "ANSWER- The \\D means matches a single character that is not a digit.\n",
    "        The \\W means matches a single character that is not a word.\n",
    "        The \\S means matches a single character that is not a space character."
   ]
  },
  {
   "cell_type": "markdown",
   "id": "adebc954",
   "metadata": {},
   "source": [
    "# 14. What is the difference between .*? and .*  ?\n",
    "\n",
    "ANSWER- (.*?) matches any character  any number of times.\n",
    "        (.*) captures a group zero or one times."
   ]
  },
  {
   "cell_type": "markdown",
   "id": "e53ec398",
   "metadata": {},
   "source": [
    "# 15. What is the syntax for matching both numbers and lowercase letters with a character class?\n",
    "\n",
    "ANSWER- The character class [0-9a-z] will match all lowercase letters and numbers."
   ]
  },
  {
   "cell_type": "markdown",
   "id": "6cbeef9e",
   "metadata": {},
   "source": [
    "# 16. What is the procedure for making a normal expression in regax case insensitive?\n",
    "\n",
    "ANSWER- With the help of IGNORECASE: this flag case-insensitive matching of the regular expression with the given string."
   ]
  },
  {
   "cell_type": "markdown",
   "id": "520707ec",
   "metadata": {},
   "source": [
    "# 17. What does the . character normally match? What does it match if re.DOTALL is passed as 2nd argument in re.compile()?\n",
    "\n",
    "ANSWER- Character normally matches any character except the newline character.But if we use re.DOTALL is passed as the second argument to re.compile(),then the dot will also match the newline character.It modify the behaviour of dot(.) character."
   ]
  },
  {
   "cell_type": "markdown",
   "id": "576d3d3e",
   "metadata": {},
   "source": [
    "# 18. If numReg = re.compile(r'\\d+'), what will numRegex.sub('X', '11 drummers, 10 pipers, five rings, 4 hen') return?\n",
    "\n",
    "ANSWER- X drummers,X pipers,five rings,X hens."
   ]
  },
  {
   "cell_type": "markdown",
   "id": "162cc7e7",
   "metadata": {},
   "source": [
    "# 19. What does passing re.VERBOSE as the 2nd argument to re.compile() allow to do?\n",
    "\n",
    "ANSWER- To ignore the whitespaces and comments inside the regular expression string."
   ]
  },
  {
   "cell_type": "markdown",
   "id": "2dccc3b0",
   "metadata": {},
   "source": [
    "# 20. How would you write a regex that match a number with comma for every three digits? It must match the given following:\n",
    "'42'\n",
    "'1,234'\n",
    "'6,368,745'\n",
    "\n",
    "but not the following:\n",
    "'12,34,567' (which has only two digits between the commas)\n",
    "'1234' (which lacks commas)\n",
    "\n",
    "ANSWER- numCommas=re.compile(r'(^\\d{1,3})(,\\d{3})*$') numCommas.search('12,34,567').group()"
   ]
  },
  {
   "cell_type": "markdown",
   "id": "cc509e3d",
   "metadata": {},
   "source": [
    "# 21. How would you write a regex that matches the full name of someone whose last name is Watanabe? You can assume that the first name that comes before it will always be one word that begins with a capital letter. The regex must match the following:\n",
    "'Haruto Watanabe'\n",
    "'Alice Watanabe'\n",
    "'RoboCop Watanabe'\n",
    "but not the following:\n",
    "'haruto Watanabe' (where the first name is not capitalized)\n",
    "'Mr. Watanabe' (where the preceding word has a nonletter character)\n",
    "'Watanabe' (which has no first name)\n",
    "'Haruto watanabe' (where Watanabe is not capitalized) \n",
    "\n",
    "ANSWER- fullName = re.compile(r'[A-Z]\\w [A-Z]\\w') mo = fullName.findall('Haruto Watanable, haruto Watanable, Alice Watanable, Watanable, Haruto watanable, Robocop Watanable') mo.group()"
   ]
  },
  {
   "cell_type": "markdown",
   "id": "8962716c",
   "metadata": {},
   "source": [
    "# Q22. How would you write a regex that matches a sentence where the first word is either Alice, Bob or Carol; the second word is either eats, pets, or throws; the third word is apples, cats, or baseballs; and the sentence ends with a period? This regex should be case-insensitive. It must match the following:\n",
    "'Alice eats apples.'\n",
    "'Bob pets cats.'\n",
    "'Carol throws baseballs.'\n",
    "'Alice throws Apples.'\n",
    "'BOB EATS CATS.'\n",
    "but not the following:\n",
    "'RoboCop eats apples.'\n",
    "'ALICE THROWS FOOTBALLS.'\n",
    "'Carol eats 7 cats.'\n",
    "\n",
    "ANSWER- Given below"
   ]
  },
  {
   "cell_type": "code",
   "execution_count": 11,
   "id": "0f39cbaa",
   "metadata": {},
   "outputs": [
    {
     "data": {
      "text/plain": [
       "[('Alice', 'eats', 'apples'),\n",
       " ('Bob', 'pets', 'cats'),\n",
       " ('Carol', 'throws', 'baseballs'),\n",
       " ('Alice', 'throws', 'Apples'),\n",
       " ('BOB', 'EATS', 'CATS')]"
      ]
     },
     "execution_count": 11,
     "metadata": {},
     "output_type": "execute_result"
    }
   ],
   "source": [
    "import rehttp://localhost:8888/notebooks/Assignment_7_FSDS.ipynb#\n",
    "senRegex = re.compile(r'(Alice|Bob|Carol)\\s(eats|pets|throws)\\s(apples|cats|baseballs).', re.I|re.DOTALL)\n",
    "\n",
    "senRegex.findall('''Alice eats apples.'\n",
    "\n",
    "'Bob pets cats.'\n",
    "\n",
    "'Carol throws baseballs.'\n",
    "\n",
    "'Alice throws Apples.'\n",
    "\n",
    "'BOB EATS CATS.'\n",
    "\n",
    "but not the following:\n",
    "\n",
    "'Robocop eats apples.'\n",
    "\n",
    "'ALICE THROWS FOOTBALLS.'\n",
    "\n",
    "'Carol eats 7 cats.''')"
   ]
  },
  {
   "cell_type": "code",
   "execution_count": null,
   "id": "b34d8161",
   "metadata": {},
   "outputs": [],
   "source": [
    "###########################################"
   ]
  }
 ],
 "metadata": {
  "kernelspec": {
   "display_name": "Python 3 (ipykernel)",
   "language": "python",
   "name": "python3"
  },
  "language_info": {
   "codemirror_mode": {
    "name": "ipython",
    "version": 3
   },
   "file_extension": ".py",
   "mimetype": "text/x-python",
   "name": "python",
   "nbconvert_exporter": "python",
   "pygments_lexer": "ipython3",
   "version": "3.9.12"
  }
 },
 "nbformat": 4,
 "nbformat_minor": 5
}
